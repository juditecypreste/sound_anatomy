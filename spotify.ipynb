{
 "cells": [
  {
   "cell_type": "code",
   "execution_count": 1,
   "id": "635baec5",
   "metadata": {
    "scrolled": true
   },
   "outputs": [],
   "source": [
    "# Import libraries\n",
    "import spotipy\n",
    "from spotipy.oauth2 import SpotifyClientCredentials\n",
    "import pandas as pd\n",
    "import csv\n",
    "import os\n",
    "from dotenv import load_dotenv\n",
    "\n",
    "# Credentials\n",
    "CLIENT_ID = os.getenv(\"CLIENT_ID\")\n",
    "CLIENT_SECRET= os.getenv(\"CLIENT_SECRET\")\n",
    "\n",
    "# Set up Spotipy client\n",
    "client_credentials_manager = SpotifyClientCredentials(\n",
    "    client_id=CLIENT_ID, client_secret=CLIENT_SECRET)\n",
    "sp = spotipy.Spotify(client_credentials_manager=client_credentials_manager)\n",
    "\n",
    "# Read input body_parts.csv file\n",
    "entrada = open('body_parts.csv')\n",
    "reader = csv.reader(entrada)\n",
    "\n",
    "is_first_row = True\n",
    "data = []\n",
    "\n",
    "# Iterate through CSV rows\n",
    "for row in reader:\n",
    "    if is_first_row:\n",
    "        is_first_row = False\n",
    "        continue\n",
    "    body_part = row[0]\n",
    "    \n",
    "    # Search for tracks related to body part on Spotify\n",
    "    spotify_data = sp.search(q='track:' + body_part, type='track', market='US', limit=50)\n",
    "    \n",
    "    top_three_popularities = []\n",
    "    top_three_items = []\n",
    "\n",
    "# Extract information for top three tracks based on popularity\n",
    "    for item in spotify_data['tracks']['items']:\n",
    "        song = item['name']\n",
    "        track_url = item['external_urls']['spotify']\n",
    "        popularity = item['popularity']\n",
    "        for name_artist in item['album']['artists']:\n",
    "            artist = name_artist['name']\n",
    "\n",
    "        if len(top_three_popularities) < 10 or popularity > min(top_three_popularities):\n",
    "            if len(top_three_popularities) == 10:\n",
    "                min_popularity_index = top_three_popularities.index(min(top_three_popularities))\n",
    "                top_three_popularities.pop(min_popularity_index)\n",
    "                top_three_items.pop(min_popularity_index)\n",
    "            top_three_popularities.append(popularity)\n",
    "            top_three_items.append({'body_part': body_part, 'song': song, 'artist': artist, 'track_url': track_url, 'popularity': popularity})\n",
    "\n",
    "    data.extend(top_three_items)\n",
    "\n",
    "# Create DataFrame\n",
    "df = pd.DataFrame(data)\n",
    "df.to_csv('body_tracks.csv', index=False)\n"
   ]
  }
 ],
 "metadata": {
  "kernelspec": {
   "display_name": "Python 3 (ipykernel)",
   "language": "python",
   "name": "python3"
  },
  "language_info": {
   "codemirror_mode": {
    "name": "ipython",
    "version": 3
   },
   "file_extension": ".py",
   "mimetype": "text/x-python",
   "name": "python",
   "nbconvert_exporter": "python",
   "pygments_lexer": "ipython3",
   "version": "3.10.11"
  }
 },
 "nbformat": 4,
 "nbformat_minor": 5
}
